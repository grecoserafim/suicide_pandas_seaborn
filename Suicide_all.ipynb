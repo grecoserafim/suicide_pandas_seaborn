{
  "nbformat": 4,
  "nbformat_minor": 0,
  "metadata": {
    "colab": {
      "provenance": [],
      "include_colab_link": true
    },
    "kernelspec": {
      "name": "python3",
      "display_name": "Python 3"
    },
    "language_info": {
      "name": "python"
    }
  },
  "cells": [
    {
      "cell_type": "markdown",
      "metadata": {
        "id": "view-in-github",
        "colab_type": "text"
      },
      "source": [
        "<a href=\"https://colab.research.google.com/github/grecoserafim/suicide_pandas_seaborn/blob/main/Suicide_all.ipynb\" target=\"_parent\"><img src=\"https://colab.research.google.com/assets/colab-badge.svg\" alt=\"Open In Colab\"/></a>"
      ]
    },
    {
      "cell_type": "code",
      "execution_count": 1,
      "metadata": {
        "id": "-usdiic9D8MS"
      },
      "outputs": [],
      "source": [
        "import numpy as np\n",
        "import matplotlib.pyplot as plt\n",
        "import matplotlib.image as mpimg\n",
        "import pandas as pd"
      ]
    },
    {
      "cell_type": "markdown",
      "source": [
        "Apresentar dataset"
      ],
      "metadata": {
        "id": "0bMwnHsnobj4"
      }
    },
    {
      "cell_type": "code",
      "source": [
        "df = pd.read_csv('master.csv')\n",
        "df.head(266)\n",
        "#dataset.shapea\n",
        "#display(df)"
      ],
      "metadata": {
        "colab": {
          "base_uri": "https://localhost:8080/",
          "height": 423
        },
        "id": "tSoZcvSTEI7g",
        "outputId": "695f4c96-ca41-4500-9cfa-a78c961bfec5"
      },
      "execution_count": 2,
      "outputs": [
        {
          "output_type": "execute_result",
          "data": {
            "text/plain": [
              "                 country  year     sex          age  suicides_no  population  \\\n",
              "0                Albania  1987    male  15-24 years         21.0      312900   \n",
              "1                Albania  1987    male  35-54 years         16.0      308000   \n",
              "2                Albania  1987  female  15-24 years         14.0      289700   \n",
              "3                Albania  1987    male    75+ years          1.0       21800   \n",
              "4                Albania  1987    male  25-34 years          9.0      274300   \n",
              "..                   ...   ...     ...          ...          ...         ...   \n",
              "261              Albania  2010  female  15-24 years          6.0      263581   \n",
              "262              Albania  2010  female   5-14 years          2.0      223969   \n",
              "263              Albania  2010    male   5-14 years          0.0      240939   \n",
              "264  Antigua and Barbuda  1985  female  15-24 years          0.0        7709   \n",
              "265  Antigua and Barbuda  1985  female  25-34 years          0.0        6344   \n",
              "\n",
              "     suicides/100k pop             country-year  HDI for year  \\\n",
              "0                 6.71              Albania1987           NaN   \n",
              "1                 5.19              Albania1987           NaN   \n",
              "2                 4.83              Albania1987           NaN   \n",
              "3                 4.59              Albania1987           NaN   \n",
              "4                 3.28              Albania1987           NaN   \n",
              "..                 ...                      ...           ...   \n",
              "261               2.28              Albania2010         0.722   \n",
              "262               0.89              Albania2010         0.722   \n",
              "263               0.00              Albania2010         0.722   \n",
              "264               0.00  Antigua and Barbuda1985           NaN   \n",
              "265               0.00  Antigua and Barbuda1985           NaN   \n",
              "\n",
              "     gdp_for_year ($)   gdp_per_capita ($)       generation  \n",
              "0       2,15,66,24,900               796.0     Generation X  \n",
              "1       2,15,66,24,900               796.0           Silent  \n",
              "2       2,15,66,24,900               796.0     Generation X  \n",
              "3       2,15,66,24,900               796.0  G.I. Generation  \n",
              "4       2,15,66,24,900               796.0          Boomers  \n",
              "..                 ...                 ...              ...  \n",
              "261    11,92,69,53,259              4359.0       Millenials  \n",
              "262    11,92,69,53,259              4359.0     Generation Z  \n",
              "263    11,92,69,53,259              4359.0     Generation Z  \n",
              "264       24,09,23,926              3850.0     Generation X  \n",
              "265       24,09,23,926              3850.0          Boomers  \n",
              "\n",
              "[266 rows x 12 columns]"
            ],
            "text/html": [
              "\n",
              "  <div id=\"df-d887758b-53e6-4d8b-b2c8-2d6bca9b2e14\">\n",
              "    <div class=\"colab-df-container\">\n",
              "      <div>\n",
              "<style scoped>\n",
              "    .dataframe tbody tr th:only-of-type {\n",
              "        vertical-align: middle;\n",
              "    }\n",
              "\n",
              "    .dataframe tbody tr th {\n",
              "        vertical-align: top;\n",
              "    }\n",
              "\n",
              "    .dataframe thead th {\n",
              "        text-align: right;\n",
              "    }\n",
              "</style>\n",
              "<table border=\"1\" class=\"dataframe\">\n",
              "  <thead>\n",
              "    <tr style=\"text-align: right;\">\n",
              "      <th></th>\n",
              "      <th>country</th>\n",
              "      <th>year</th>\n",
              "      <th>sex</th>\n",
              "      <th>age</th>\n",
              "      <th>suicides_no</th>\n",
              "      <th>population</th>\n",
              "      <th>suicides/100k pop</th>\n",
              "      <th>country-year</th>\n",
              "      <th>HDI for year</th>\n",
              "      <th>gdp_for_year ($)</th>\n",
              "      <th>gdp_per_capita ($)</th>\n",
              "      <th>generation</th>\n",
              "    </tr>\n",
              "  </thead>\n",
              "  <tbody>\n",
              "    <tr>\n",
              "      <th>0</th>\n",
              "      <td>Albania</td>\n",
              "      <td>1987</td>\n",
              "      <td>male</td>\n",
              "      <td>15-24 years</td>\n",
              "      <td>21.0</td>\n",
              "      <td>312900</td>\n",
              "      <td>6.71</td>\n",
              "      <td>Albania1987</td>\n",
              "      <td>NaN</td>\n",
              "      <td>2,15,66,24,900</td>\n",
              "      <td>796.0</td>\n",
              "      <td>Generation X</td>\n",
              "    </tr>\n",
              "    <tr>\n",
              "      <th>1</th>\n",
              "      <td>Albania</td>\n",
              "      <td>1987</td>\n",
              "      <td>male</td>\n",
              "      <td>35-54 years</td>\n",
              "      <td>16.0</td>\n",
              "      <td>308000</td>\n",
              "      <td>5.19</td>\n",
              "      <td>Albania1987</td>\n",
              "      <td>NaN</td>\n",
              "      <td>2,15,66,24,900</td>\n",
              "      <td>796.0</td>\n",
              "      <td>Silent</td>\n",
              "    </tr>\n",
              "    <tr>\n",
              "      <th>2</th>\n",
              "      <td>Albania</td>\n",
              "      <td>1987</td>\n",
              "      <td>female</td>\n",
              "      <td>15-24 years</td>\n",
              "      <td>14.0</td>\n",
              "      <td>289700</td>\n",
              "      <td>4.83</td>\n",
              "      <td>Albania1987</td>\n",
              "      <td>NaN</td>\n",
              "      <td>2,15,66,24,900</td>\n",
              "      <td>796.0</td>\n",
              "      <td>Generation X</td>\n",
              "    </tr>\n",
              "    <tr>\n",
              "      <th>3</th>\n",
              "      <td>Albania</td>\n",
              "      <td>1987</td>\n",
              "      <td>male</td>\n",
              "      <td>75+ years</td>\n",
              "      <td>1.0</td>\n",
              "      <td>21800</td>\n",
              "      <td>4.59</td>\n",
              "      <td>Albania1987</td>\n",
              "      <td>NaN</td>\n",
              "      <td>2,15,66,24,900</td>\n",
              "      <td>796.0</td>\n",
              "      <td>G.I. Generation</td>\n",
              "    </tr>\n",
              "    <tr>\n",
              "      <th>4</th>\n",
              "      <td>Albania</td>\n",
              "      <td>1987</td>\n",
              "      <td>male</td>\n",
              "      <td>25-34 years</td>\n",
              "      <td>9.0</td>\n",
              "      <td>274300</td>\n",
              "      <td>3.28</td>\n",
              "      <td>Albania1987</td>\n",
              "      <td>NaN</td>\n",
              "      <td>2,15,66,24,900</td>\n",
              "      <td>796.0</td>\n",
              "      <td>Boomers</td>\n",
              "    </tr>\n",
              "    <tr>\n",
              "      <th>...</th>\n",
              "      <td>...</td>\n",
              "      <td>...</td>\n",
              "      <td>...</td>\n",
              "      <td>...</td>\n",
              "      <td>...</td>\n",
              "      <td>...</td>\n",
              "      <td>...</td>\n",
              "      <td>...</td>\n",
              "      <td>...</td>\n",
              "      <td>...</td>\n",
              "      <td>...</td>\n",
              "      <td>...</td>\n",
              "    </tr>\n",
              "    <tr>\n",
              "      <th>261</th>\n",
              "      <td>Albania</td>\n",
              "      <td>2010</td>\n",
              "      <td>female</td>\n",
              "      <td>15-24 years</td>\n",
              "      <td>6.0</td>\n",
              "      <td>263581</td>\n",
              "      <td>2.28</td>\n",
              "      <td>Albania2010</td>\n",
              "      <td>0.722</td>\n",
              "      <td>11,92,69,53,259</td>\n",
              "      <td>4359.0</td>\n",
              "      <td>Millenials</td>\n",
              "    </tr>\n",
              "    <tr>\n",
              "      <th>262</th>\n",
              "      <td>Albania</td>\n",
              "      <td>2010</td>\n",
              "      <td>female</td>\n",
              "      <td>5-14 years</td>\n",
              "      <td>2.0</td>\n",
              "      <td>223969</td>\n",
              "      <td>0.89</td>\n",
              "      <td>Albania2010</td>\n",
              "      <td>0.722</td>\n",
              "      <td>11,92,69,53,259</td>\n",
              "      <td>4359.0</td>\n",
              "      <td>Generation Z</td>\n",
              "    </tr>\n",
              "    <tr>\n",
              "      <th>263</th>\n",
              "      <td>Albania</td>\n",
              "      <td>2010</td>\n",
              "      <td>male</td>\n",
              "      <td>5-14 years</td>\n",
              "      <td>0.0</td>\n",
              "      <td>240939</td>\n",
              "      <td>0.00</td>\n",
              "      <td>Albania2010</td>\n",
              "      <td>0.722</td>\n",
              "      <td>11,92,69,53,259</td>\n",
              "      <td>4359.0</td>\n",
              "      <td>Generation Z</td>\n",
              "    </tr>\n",
              "    <tr>\n",
              "      <th>264</th>\n",
              "      <td>Antigua and Barbuda</td>\n",
              "      <td>1985</td>\n",
              "      <td>female</td>\n",
              "      <td>15-24 years</td>\n",
              "      <td>0.0</td>\n",
              "      <td>7709</td>\n",
              "      <td>0.00</td>\n",
              "      <td>Antigua and Barbuda1985</td>\n",
              "      <td>NaN</td>\n",
              "      <td>24,09,23,926</td>\n",
              "      <td>3850.0</td>\n",
              "      <td>Generation X</td>\n",
              "    </tr>\n",
              "    <tr>\n",
              "      <th>265</th>\n",
              "      <td>Antigua and Barbuda</td>\n",
              "      <td>1985</td>\n",
              "      <td>female</td>\n",
              "      <td>25-34 years</td>\n",
              "      <td>0.0</td>\n",
              "      <td>6344</td>\n",
              "      <td>0.00</td>\n",
              "      <td>Antigua and Barbuda1985</td>\n",
              "      <td>NaN</td>\n",
              "      <td>24,09,23,926</td>\n",
              "      <td>3850.0</td>\n",
              "      <td>Boomers</td>\n",
              "    </tr>\n",
              "  </tbody>\n",
              "</table>\n",
              "<p>266 rows × 12 columns</p>\n",
              "</div>\n",
              "      <button class=\"colab-df-convert\" onclick=\"convertToInteractive('df-d887758b-53e6-4d8b-b2c8-2d6bca9b2e14')\"\n",
              "              title=\"Convert this dataframe to an interactive table.\"\n",
              "              style=\"display:none;\">\n",
              "        \n",
              "  <svg xmlns=\"http://www.w3.org/2000/svg\" height=\"24px\"viewBox=\"0 0 24 24\"\n",
              "       width=\"24px\">\n",
              "    <path d=\"M0 0h24v24H0V0z\" fill=\"none\"/>\n",
              "    <path d=\"M18.56 5.44l.94 2.06.94-2.06 2.06-.94-2.06-.94-.94-2.06-.94 2.06-2.06.94zm-11 1L8.5 8.5l.94-2.06 2.06-.94-2.06-.94L8.5 2.5l-.94 2.06-2.06.94zm10 10l.94 2.06.94-2.06 2.06-.94-2.06-.94-.94-2.06-.94 2.06-2.06.94z\"/><path d=\"M17.41 7.96l-1.37-1.37c-.4-.4-.92-.59-1.43-.59-.52 0-1.04.2-1.43.59L10.3 9.45l-7.72 7.72c-.78.78-.78 2.05 0 2.83L4 21.41c.39.39.9.59 1.41.59.51 0 1.02-.2 1.41-.59l7.78-7.78 2.81-2.81c.8-.78.8-2.07 0-2.86zM5.41 20L4 18.59l7.72-7.72 1.47 1.35L5.41 20z\"/>\n",
              "  </svg>\n",
              "      </button>\n",
              "      \n",
              "  <style>\n",
              "    .colab-df-container {\n",
              "      display:flex;\n",
              "      flex-wrap:wrap;\n",
              "      gap: 12px;\n",
              "    }\n",
              "\n",
              "    .colab-df-convert {\n",
              "      background-color: #E8F0FE;\n",
              "      border: none;\n",
              "      border-radius: 50%;\n",
              "      cursor: pointer;\n",
              "      display: none;\n",
              "      fill: #1967D2;\n",
              "      height: 32px;\n",
              "      padding: 0 0 0 0;\n",
              "      width: 32px;\n",
              "    }\n",
              "\n",
              "    .colab-df-convert:hover {\n",
              "      background-color: #E2EBFA;\n",
              "      box-shadow: 0px 1px 2px rgba(60, 64, 67, 0.3), 0px 1px 3px 1px rgba(60, 64, 67, 0.15);\n",
              "      fill: #174EA6;\n",
              "    }\n",
              "\n",
              "    [theme=dark] .colab-df-convert {\n",
              "      background-color: #3B4455;\n",
              "      fill: #D2E3FC;\n",
              "    }\n",
              "\n",
              "    [theme=dark] .colab-df-convert:hover {\n",
              "      background-color: #434B5C;\n",
              "      box-shadow: 0px 1px 3px 1px rgba(0, 0, 0, 0.15);\n",
              "      filter: drop-shadow(0px 1px 2px rgba(0, 0, 0, 0.3));\n",
              "      fill: #FFFFFF;\n",
              "    }\n",
              "  </style>\n",
              "\n",
              "      <script>\n",
              "        const buttonEl =\n",
              "          document.querySelector('#df-d887758b-53e6-4d8b-b2c8-2d6bca9b2e14 button.colab-df-convert');\n",
              "        buttonEl.style.display =\n",
              "          google.colab.kernel.accessAllowed ? 'block' : 'none';\n",
              "\n",
              "        async function convertToInteractive(key) {\n",
              "          const element = document.querySelector('#df-d887758b-53e6-4d8b-b2c8-2d6bca9b2e14');\n",
              "          const dataTable =\n",
              "            await google.colab.kernel.invokeFunction('convertToInteractive',\n",
              "                                                     [key], {});\n",
              "          if (!dataTable) return;\n",
              "\n",
              "          const docLinkHtml = 'Like what you see? Visit the ' +\n",
              "            '<a target=\"_blank\" href=https://colab.research.google.com/notebooks/data_table.ipynb>data table notebook</a>'\n",
              "            + ' to learn more about interactive tables.';\n",
              "          element.innerHTML = '';\n",
              "          dataTable['output_type'] = 'display_data';\n",
              "          await google.colab.output.renderOutput(dataTable, element);\n",
              "          const docLink = document.createElement('div');\n",
              "          docLink.innerHTML = docLinkHtml;\n",
              "          element.appendChild(docLink);\n",
              "        }\n",
              "      </script>\n",
              "    </div>\n",
              "  </div>\n",
              "  "
            ]
          },
          "metadata": {},
          "execution_count": 2
        }
      ]
    },
    {
      "cell_type": "markdown",
      "source": [
        "Numero de paises existentes no dataset"
      ],
      "metadata": {
        "id": "PyeQSWTQokHV"
      }
    },
    {
      "cell_type": "code",
      "source": [
        "países = df[\"country\"].unique()\n",
        "\n",
        "## [Tonet] Sugiro deixar essa lista de países ordenadas alfabeticamente.\n",
        "## [Tonet] Isso facilita quando for plotar ou orientar sua análise visual.\n",
        "## [Tonet] Evite colocar acento nos nomes das variávies/objetos.\n",
        "\n",
        "# conte o número de países únicos\n",
        "número_de_países = len(países)\n",
        "\n",
        "print(\"Lista de países: \", países)\n",
        "print(\"Número total de países: \", número_de_países)"
      ],
      "metadata": {
        "colab": {
          "base_uri": "https://localhost:8080/"
        },
        "id": "x8s19nLIE2p4",
        "outputId": "2bb018ee-7ae3-4619-88f4-236771015c25"
      },
      "execution_count": 3,
      "outputs": [
        {
          "output_type": "stream",
          "name": "stdout",
          "text": [
            "Lista de países:  ['Albania' 'Antigua and Barbuda' 'Argentina' 'Armenia' 'Aruba' 'Australia'\n",
            " 'Austria' 'Azerbaijan' 'Bahamas' 'Bahrain' 'Barbados' 'Belarus' 'Belgium'\n",
            " 'Belize' 'Bosnia and Herzegovina' 'Brazil' 'Bulgaria' 'Cabo Verde'\n",
            " 'Canada' 'Chile' 'Colombia' 'Costa Rica' 'Croatia' 'Cuba' 'Cyprus'\n",
            " 'Czech Republic' 'Denmark' 'Dominica' 'Ecuador' 'El Salvador' 'Estonia'\n",
            " 'Fiji' 'Finland' 'France' 'Georgia' 'Germany' 'Greece' 'Grenada'\n",
            " 'Guatemala' 'Guyana' 'Hungary' 'Iceland' 'Ireland' 'Israel' 'Italy'\n",
            " 'Jamaica' 'Japan' 'Kazakhstan' 'Kiribati' 'Kuwait' 'Kyrgyzstan' 'Latvia'\n",
            " 'Lithuania' 'Luxembourg' 'Macau' 'Maldives' 'Malta' 'Mauritius' 'Mexico'\n",
            " 'Mongolia' 'Montenegro' 'Netherlands' 'New Zealand' 'Nicaragua' 'Norway'\n",
            " 'Oman' 'Panama' 'Paraguay' 'Philippines' 'Poland' 'Portugal'\n",
            " 'Puerto Rico' 'Qatar' 'Republic of Korea' 'Romania' 'Russian Federation'\n",
            " 'Saint Kitts and Nevis' 'Saint Lucia' 'Saint Vincent and Grenadines'\n",
            " 'San Marino' 'Serbia' 'Seychelles' 'Singapore' 'Slovakia' 'Slovenia'\n",
            " 'South Africa' 'Spain' 'Sri Lanka' 'Suriname' 'Sweden' 'Switzerland'\n",
            " 'Thailand' 'Trinidad and Tobago' 'Turkey' 'Turkmenistan' 'Ukraine'\n",
            " 'United Arab Emirates' 'United Kingdom' 'United States' 'Uruguay'\n",
            " 'Uzbekistan' 'Brunei Darussalam' 'China, Hong Kong SAR' 'Czechia'\n",
            " 'Dominican Republic' 'Egypt' 'Jordan' 'Lebanon' 'North Macedonia' 'Peru'\n",
            " 'Republic of Moldova' 'Saint Vincent and the Grenadines' 'Tajikistan'\n",
            " 'United States of America']\n",
            "Número total de países:  114\n"
          ]
        }
      ]
    },
    {
      "cell_type": "markdown",
      "source": [
        "Quais anos o dataset explora"
      ],
      "metadata": {
        "id": "DpZh9M7qooJV"
      }
    },
    {
      "cell_type": "code",
      "source": [
        "ano = df[\"year\"].unique()\n",
        "ano.sort()\n",
        "\n",
        "# conte o número de países únicos\n",
        "número_de_anos = len(ano)\n",
        "\n",
        "print(\"Lista de anos: \", ano)\n",
        "print(\"Número total de anos: \", número_de_anos)"
      ],
      "metadata": {
        "colab": {
          "base_uri": "https://localhost:8080/"
        },
        "id": "uXhNAUyaFk2I",
        "outputId": "e3e538cb-8123-4e56-f068-9b7d3402456d"
      },
      "execution_count": 4,
      "outputs": [
        {
          "output_type": "stream",
          "name": "stdout",
          "text": [
            "Lista de anos:  [1985 1986 1987 1988 1989 1990 1991 1992 1993 1994 1995 1996 1997 1998\n",
            " 1999 2000 2001 2002 2003 2004 2005 2006 2007 2008 2009 2010 2011 2012\n",
            " 2013 2014 2015 2016 2017 2018 2019 2020]\n",
            "Número total de anos:  36\n"
          ]
        }
      ]
    },
    {
      "cell_type": "markdown",
      "source": [
        "Quais faixas etárias que o dataset explora"
      ],
      "metadata": {
        "id": "wrhYo3xkorI-"
      }
    },
    {
      "cell_type": "code",
      "source": [
        "faixa_etária = df[\"age\"].unique()\n",
        "faixa_etária.sort()\n",
        "\n",
        "# conte o número de países únicos\n",
        "número_de_faixa_etária = len(faixa_etária)\n",
        "\n",
        "print(\"Lista de faixa etária: \", faixa_etária)\n",
        "print(\"Número total de anos: \", número_de_faixa_etária)"
      ],
      "metadata": {
        "colab": {
          "base_uri": "https://localhost:8080/"
        },
        "id": "uR83nvU6pH13",
        "outputId": "84c3defe-425f-46ae-92f0-e30caf71be4c"
      },
      "execution_count": 5,
      "outputs": [
        {
          "output_type": "stream",
          "name": "stdout",
          "text": [
            "Lista de faixa etária:  ['15-24 years' '25-34 years' '35-54 years' '5-14 years' '55-74 years'\n",
            " '75+ years']\n",
            "Número total de anos:  6\n"
          ]
        }
      ]
    },
    {
      "cell_type": "markdown",
      "source": [
        "# Pergunta:  O numero de suicidio de homens sempre é maior que mulheres, em todos os países?"
      ],
      "metadata": {
        "id": "RvtXeRyQovUZ"
      }
    },
    {
      "cell_type": "code",
      "source": [
        "# agrupe os dados por país e sexo (homem ou mulher)\n",
        "grupos = df.groupby([\"country\", \"sex\"])\n",
        "\n",
        "# aplique a soma a cada grupo e armazene o resultado em uma nova variável\n",
        "\n",
        "\n",
        "\n",
        "suicidio_por_genero = grupos[\"suicides_no\"].sum().reset_index()\n",
        "\n",
        "print(suicidio_por_genero)"
      ],
      "metadata": {
        "colab": {
          "base_uri": "https://localhost:8080/"
        },
        "id": "i2rNLyMAN3m2",
        "outputId": "5f9f0b07-4e09-4eaa-f98d-c49fee6fd533"
      },
      "execution_count": 6,
      "outputs": [
        {
          "output_type": "stream",
          "name": "stdout",
          "text": [
            "                      country     sex  suicides_no\n",
            "0                     Albania  female        693.0\n",
            "1                     Albania    male       1277.0\n",
            "2         Antigua and Barbuda  female          1.0\n",
            "3         Antigua and Barbuda    male         10.0\n",
            "4                   Argentina  female      20145.0\n",
            "..                        ...     ...          ...\n",
            "223  United States of America    male      31375.0\n",
            "224                   Uruguay  female       3268.0\n",
            "225                   Uruguay    male      11990.0\n",
            "226                Uzbekistan  female      11744.0\n",
            "227                Uzbekistan    male      30072.0\n",
            "\n",
            "[228 rows x 3 columns]\n"
          ]
        }
      ]
    },
    {
      "cell_type": "code",
      "source": [
        "grupos = df.groupby([\"country\", \"sex\"]).sum()\n",
        "\n",
        "# desfaça o agrupamento para ter acesso aos dados em formato de tabela\n",
        "grupos = grupos.reset_index()\n",
        "\n",
        "# crie uma nova tabela pivô para facilitar a comparação entre homens e mulheres\n",
        "suicide_genre_total = grupos.pivot(index=\"country\", columns=\"sex\", values=\"suicides/100k pop\")\n",
        "\n",
        "# filtre apenas aqueles países onde o número para mulheres é maior do que para homens\n",
        "países_com_mais_mulheres = suicide_genre_total[suicide_genre_total[\"female\"] > suicide_genre_total[\"male\"]]\n",
        "\n",
        "print(\"Países com maior suicídio de mulheres:\", países_com_mais_mulheres.index.tolist())"
      ],
      "metadata": {
        "colab": {
          "base_uri": "https://localhost:8080/"
        },
        "id": "Q_WFsceCZcoz",
        "outputId": "e9e899bd-1bce-4289-ff04-2cf0a2ec2c59"
      },
      "execution_count": 20,
      "outputs": [
        {
          "output_type": "stream",
          "name": "stdout",
          "text": [
            "Países com maior suicídio de mulheres: ['Maldives']\n"
          ]
        }
      ]
    },
    {
      "cell_type": "code",
      "source": [
        "display(suicide_genre_total)"
      ],
      "metadata": {
        "colab": {
          "base_uri": "https://localhost:8080/",
          "height": 788
        },
        "id": "0-dBcrpFaksi",
        "outputId": "ee031113-34d1-4273-d1de-9160a644f43f"
      },
      "execution_count": 11,
      "outputs": [
        {
          "output_type": "display_data",
          "data": {
            "text/plain": [
              "sex                            female         male\n",
              "country                                           \n",
              "Albania                    318.980000   605.780000\n",
              "Antigua and Barbuda         15.620000   163.520000\n",
              "Argentina                  710.139942  3206.278268\n",
              "Armenia                    240.291407   741.278616\n",
              "Aruba                      276.350000  1320.170000\n",
              "...                               ...          ...\n",
              "United Kingdom             638.211200  2175.922643\n",
              "United States              869.810000  4271.160000\n",
              "United States of America     9.104060     9.567481\n",
              "Uruguay                   1107.316297  5493.524624\n",
              "Uzbekistan                 579.910699  1579.536876\n",
              "\n",
              "[114 rows x 2 columns]"
            ],
            "text/html": [
              "\n",
              "  <div id=\"df-1544f06c-72fb-4938-902a-3ebbbc9fe400\">\n",
              "    <div class=\"colab-df-container\">\n",
              "      <div>\n",
              "<style scoped>\n",
              "    .dataframe tbody tr th:only-of-type {\n",
              "        vertical-align: middle;\n",
              "    }\n",
              "\n",
              "    .dataframe tbody tr th {\n",
              "        vertical-align: top;\n",
              "    }\n",
              "\n",
              "    .dataframe thead th {\n",
              "        text-align: right;\n",
              "    }\n",
              "</style>\n",
              "<table border=\"1\" class=\"dataframe\">\n",
              "  <thead>\n",
              "    <tr style=\"text-align: right;\">\n",
              "      <th>sex</th>\n",
              "      <th>female</th>\n",
              "      <th>male</th>\n",
              "    </tr>\n",
              "    <tr>\n",
              "      <th>country</th>\n",
              "      <th></th>\n",
              "      <th></th>\n",
              "    </tr>\n",
              "  </thead>\n",
              "  <tbody>\n",
              "    <tr>\n",
              "      <th>Albania</th>\n",
              "      <td>318.980000</td>\n",
              "      <td>605.780000</td>\n",
              "    </tr>\n",
              "    <tr>\n",
              "      <th>Antigua and Barbuda</th>\n",
              "      <td>15.620000</td>\n",
              "      <td>163.520000</td>\n",
              "    </tr>\n",
              "    <tr>\n",
              "      <th>Argentina</th>\n",
              "      <td>710.139942</td>\n",
              "      <td>3206.278268</td>\n",
              "    </tr>\n",
              "    <tr>\n",
              "      <th>Armenia</th>\n",
              "      <td>240.291407</td>\n",
              "      <td>741.278616</td>\n",
              "    </tr>\n",
              "    <tr>\n",
              "      <th>Aruba</th>\n",
              "      <td>276.350000</td>\n",
              "      <td>1320.170000</td>\n",
              "    </tr>\n",
              "    <tr>\n",
              "      <th>...</th>\n",
              "      <td>...</td>\n",
              "      <td>...</td>\n",
              "    </tr>\n",
              "    <tr>\n",
              "      <th>United Kingdom</th>\n",
              "      <td>638.211200</td>\n",
              "      <td>2175.922643</td>\n",
              "    </tr>\n",
              "    <tr>\n",
              "      <th>United States</th>\n",
              "      <td>869.810000</td>\n",
              "      <td>4271.160000</td>\n",
              "    </tr>\n",
              "    <tr>\n",
              "      <th>United States of America</th>\n",
              "      <td>9.104060</td>\n",
              "      <td>9.567481</td>\n",
              "    </tr>\n",
              "    <tr>\n",
              "      <th>Uruguay</th>\n",
              "      <td>1107.316297</td>\n",
              "      <td>5493.524624</td>\n",
              "    </tr>\n",
              "    <tr>\n",
              "      <th>Uzbekistan</th>\n",
              "      <td>579.910699</td>\n",
              "      <td>1579.536876</td>\n",
              "    </tr>\n",
              "  </tbody>\n",
              "</table>\n",
              "<p>114 rows × 2 columns</p>\n",
              "</div>\n",
              "      <button class=\"colab-df-convert\" onclick=\"convertToInteractive('df-1544f06c-72fb-4938-902a-3ebbbc9fe400')\"\n",
              "              title=\"Convert this dataframe to an interactive table.\"\n",
              "              style=\"display:none;\">\n",
              "        \n",
              "  <svg xmlns=\"http://www.w3.org/2000/svg\" height=\"24px\"viewBox=\"0 0 24 24\"\n",
              "       width=\"24px\">\n",
              "    <path d=\"M0 0h24v24H0V0z\" fill=\"none\"/>\n",
              "    <path d=\"M18.56 5.44l.94 2.06.94-2.06 2.06-.94-2.06-.94-.94-2.06-.94 2.06-2.06.94zm-11 1L8.5 8.5l.94-2.06 2.06-.94-2.06-.94L8.5 2.5l-.94 2.06-2.06.94zm10 10l.94 2.06.94-2.06 2.06-.94-2.06-.94-.94-2.06-.94 2.06-2.06.94z\"/><path d=\"M17.41 7.96l-1.37-1.37c-.4-.4-.92-.59-1.43-.59-.52 0-1.04.2-1.43.59L10.3 9.45l-7.72 7.72c-.78.78-.78 2.05 0 2.83L4 21.41c.39.39.9.59 1.41.59.51 0 1.02-.2 1.41-.59l7.78-7.78 2.81-2.81c.8-.78.8-2.07 0-2.86zM5.41 20L4 18.59l7.72-7.72 1.47 1.35L5.41 20z\"/>\n",
              "  </svg>\n",
              "      </button>\n",
              "      \n",
              "  <style>\n",
              "    .colab-df-container {\n",
              "      display:flex;\n",
              "      flex-wrap:wrap;\n",
              "      gap: 12px;\n",
              "    }\n",
              "\n",
              "    .colab-df-convert {\n",
              "      background-color: #E8F0FE;\n",
              "      border: none;\n",
              "      border-radius: 50%;\n",
              "      cursor: pointer;\n",
              "      display: none;\n",
              "      fill: #1967D2;\n",
              "      height: 32px;\n",
              "      padding: 0 0 0 0;\n",
              "      width: 32px;\n",
              "    }\n",
              "\n",
              "    .colab-df-convert:hover {\n",
              "      background-color: #E2EBFA;\n",
              "      box-shadow: 0px 1px 2px rgba(60, 64, 67, 0.3), 0px 1px 3px 1px rgba(60, 64, 67, 0.15);\n",
              "      fill: #174EA6;\n",
              "    }\n",
              "\n",
              "    [theme=dark] .colab-df-convert {\n",
              "      background-color: #3B4455;\n",
              "      fill: #D2E3FC;\n",
              "    }\n",
              "\n",
              "    [theme=dark] .colab-df-convert:hover {\n",
              "      background-color: #434B5C;\n",
              "      box-shadow: 0px 1px 3px 1px rgba(0, 0, 0, 0.15);\n",
              "      filter: drop-shadow(0px 1px 2px rgba(0, 0, 0, 0.3));\n",
              "      fill: #FFFFFF;\n",
              "    }\n",
              "  </style>\n",
              "\n",
              "      <script>\n",
              "        const buttonEl =\n",
              "          document.querySelector('#df-1544f06c-72fb-4938-902a-3ebbbc9fe400 button.colab-df-convert');\n",
              "        buttonEl.style.display =\n",
              "          google.colab.kernel.accessAllowed ? 'block' : 'none';\n",
              "\n",
              "        async function convertToInteractive(key) {\n",
              "          const element = document.querySelector('#df-1544f06c-72fb-4938-902a-3ebbbc9fe400');\n",
              "          const dataTable =\n",
              "            await google.colab.kernel.invokeFunction('convertToInteractive',\n",
              "                                                     [key], {});\n",
              "          if (!dataTable) return;\n",
              "\n",
              "          const docLinkHtml = 'Like what you see? Visit the ' +\n",
              "            '<a target=\"_blank\" href=https://colab.research.google.com/notebooks/data_table.ipynb>data table notebook</a>'\n",
              "            + ' to learn more about interactive tables.';\n",
              "          element.innerHTML = '';\n",
              "          dataTable['output_type'] = 'display_data';\n",
              "          await google.colab.output.renderOutput(dataTable, element);\n",
              "          const docLink = document.createElement('div');\n",
              "          docLink.innerHTML = docLinkHtml;\n",
              "          element.appendChild(docLink);\n",
              "        }\n",
              "      </script>\n",
              "    </div>\n",
              "  </div>\n",
              "  "
            ]
          },
          "metadata": {}
        }
      ]
    },
    {
      "cell_type": "code",
      "source": [
        "count = 0\n",
        "for index, row in suicide_genre_total.iterrows():\n",
        "    if row['female'] > row['male']:\n",
        "        count += 1\n",
        "\n",
        "print(count)"
      ],
      "metadata": {
        "colab": {
          "base_uri": "https://localhost:8080/"
        },
        "id": "0kfUYa1DbE7t",
        "outputId": "20e53774-78b5-424a-8920-3c8055573a11"
      },
      "execution_count": 18,
      "outputs": [
        {
          "output_type": "stream",
          "name": "stdout",
          "text": [
            "1\n"
          ]
        }
      ]
    },
    {
      "cell_type": "markdown",
      "source": [
        "Apenas um país obteve esse resultado, mas vamos fazer um estudo mais a fundo."
      ],
      "metadata": {
        "id": "DATQ6N2K4ZsZ"
      }
    },
    {
      "cell_type": "markdown",
      "source": [
        "Média,Mediana,Desvio Padrão e Variancia"
      ],
      "metadata": {
        "id": "0yMF6v1hRCr1"
      }
    },
    {
      "cell_type": "code",
      "source": [
        "media_suicidio = suicide_genre_total.iloc[:].mean()\n",
        "print(media_suicidio)\n",
        "print(\"-----------------------------------------------------------\")\n",
        "mediana_suicidio = suicide_genre_total.iloc[:].median()\n",
        "print(mediana_suicidio)\n",
        "print(\"-----------------------------------------------------------\")\n",
        "desviopadrao_suicidio = suicide_genre_total.iloc[:].std()\n",
        "print(desviopadrao_suicidio)"
      ],
      "metadata": {
        "id": "GRL6Lz7IjTLS",
        "colab": {
          "base_uri": "https://localhost:8080/"
        },
        "outputId": "1927de07-b2af-4c30-99e0-13d23b30d8ec"
      },
      "execution_count": 13,
      "outputs": [
        {
          "output_type": "stream",
          "name": "stdout",
          "text": [
            "sex\n",
            "female     701.754276\n",
            "male      2562.057098\n",
            "dtype: float64\n",
            "-----------------------------------------------------------\n",
            "sex\n",
            "female     402.836160\n",
            "male      1825.025169\n",
            "dtype: float64\n",
            "-----------------------------------------------------------\n",
            "sex\n",
            "female     855.309353\n",
            "male      2530.035799\n",
            "dtype: float64\n"
          ]
        }
      ]
    },
    {
      "cell_type": "markdown",
      "source": [
        "# Suicidio de Homens sempre maior que de Mulheres apenas em Maldives? E se fizermos por faixa etária"
      ],
      "metadata": {
        "id": "IpcbIPyS6TMi"
      }
    },
    {
      "cell_type": "markdown",
      "source": [
        "Conferindo se o numero de mulheres em algum momento na faixa étaria de 15-24 supera em algum pais os homens"
      ],
      "metadata": {
        "id": "kJpGrXhLq1CC"
      }
    },
    {
      "cell_type": "code",
      "source": [
        "\n",
        "# selecionar apenas as linhas da faixa etária específica\n",
        "df_15 = df[df['age'] == '15-24 years']\n",
        "\n",
        "# agrupar os dados por gênero e calcular a média dos valores\n",
        "\n",
        "# itera sobre cada país e ano\n",
        "for (pais, ano), data in df_15.groupby(['country', 'year']):\n",
        "    # selecionar os valores de homens e mulheres\n",
        "    df_15_male = data[data['sex'] == 'male']['suicides/100k pop'].values[0]\n",
        "    df_15_female = data[data['sex'] == 'female']['suicides/100k pop'].values[0]\n",
        "\n",
        "    # comparar os valores de homens e mulheres\n",
        "    if df_15_female > df_15_male:\n",
        "        print(f\"No país {pais} e no ano {ano}, o valor para mulheres é maior que o valor para homens na faixa etária específica\")\n",
        "\n",
        "\n",
        "\n"
      ],
      "metadata": {
        "colab": {
          "base_uri": "https://localhost:8080/"
        },
        "id": "W9_1EE37oIDx",
        "outputId": "26c5a554-6921-42ae-a59f-52bf151e2221"
      },
      "execution_count": 15,
      "outputs": [
        {
          "output_type": "stream",
          "name": "stdout",
          "text": [
            "No país Albania e no ano 1995, o valor para mulheres é maior que o valor para homens na faixa etária específica\n",
            "No país Albania e no ano 2000, o valor para mulheres é maior que o valor para homens na faixa etária específica\n",
            "No país Albania e no ano 2004, o valor para mulheres é maior que o valor para homens na faixa etária específica\n",
            "No país Albania e no ano 2007, o valor para mulheres é maior que o valor para homens na faixa etária específica\n",
            "No país Albania e no ano 2008, o valor para mulheres é maior que o valor para homens na faixa etária específica\n",
            "No país Armenia e no ano 2015, o valor para mulheres é maior que o valor para homens na faixa etária específica\n",
            "No país Armenia e no ano 2017, o valor para mulheres é maior que o valor para homens na faixa etária específica\n",
            "No país Aruba e no ano 2004, o valor para mulheres é maior que o valor para homens na faixa etária específica\n",
            "No país Aruba e no ano 2005, o valor para mulheres é maior que o valor para homens na faixa etária específica\n",
            "No país Azerbaijan e no ano 1994, o valor para mulheres é maior que o valor para homens na faixa etária específica\n",
            "No país Azerbaijan e no ano 1998, o valor para mulheres é maior que o valor para homens na faixa etária específica\n",
            "No país Azerbaijan e no ano 2007, o valor para mulheres é maior que o valor para homens na faixa etária específica\n",
            "No país Bahamas e no ano 2000, o valor para mulheres é maior que o valor para homens na faixa etária específica\n",
            "No país Bahamas e no ano 2010, o valor para mulheres é maior que o valor para homens na faixa etária específica\n",
            "No país Bahrain e no ano 1987, o valor para mulheres é maior que o valor para homens na faixa etária específica\n",
            "No país Bahrain e no ano 2002, o valor para mulheres é maior que o valor para homens na faixa etária específica\n",
            "No país Bahrain e no ano 2006, o valor para mulheres é maior que o valor para homens na faixa etária específica\n",
            "No país Bahrain e no ano 2008, o valor para mulheres é maior que o valor para homens na faixa etária específica\n",
            "No país Bahrain e no ano 2010, o valor para mulheres é maior que o valor para homens na faixa etária específica\n",
            "No país Barbados e no ano 1995, o valor para mulheres é maior que o valor para homens na faixa etária específica\n",
            "No país Belize e no ano 1986, o valor para mulheres é maior que o valor para homens na faixa etária específica\n",
            "No país Belize e no ano 1990, o valor para mulheres é maior que o valor para homens na faixa etária específica\n",
            "No país Belize e no ano 2002, o valor para mulheres é maior que o valor para homens na faixa etária específica\n",
            "No país Belize e no ano 2003, o valor para mulheres é maior que o valor para homens na faixa etária específica\n",
            "No país Belize e no ano 2012, o valor para mulheres é maior que o valor para homens na faixa etária específica\n",
            "No país Cuba e no ano 1992, o valor para mulheres é maior que o valor para homens na faixa etária específica\n",
            "No país Cuba e no ano 1993, o valor para mulheres é maior que o valor para homens na faixa etária específica\n",
            "No país Cuba e no ano 1994, o valor para mulheres é maior que o valor para homens na faixa etária específica\n",
            "No país Cuba e no ano 1995, o valor para mulheres é maior que o valor para homens na faixa etária específica\n",
            "No país Cyprus e no ano 2014, o valor para mulheres é maior que o valor para homens na faixa etária específica\n",
            "No país Ecuador e no ano 1987, o valor para mulheres é maior que o valor para homens na faixa etária específica\n",
            "No país Ecuador e no ano 1989, o valor para mulheres é maior que o valor para homens na faixa etária específica\n",
            "No país Ecuador e no ano 1991, o valor para mulheres é maior que o valor para homens na faixa etária específica\n",
            "No país Ecuador e no ano 1993, o valor para mulheres é maior que o valor para homens na faixa etária específica\n",
            "No país Ecuador e no ano 1994, o valor para mulheres é maior que o valor para homens na faixa etária específica\n",
            "No país Ecuador e no ano 2006, o valor para mulheres é maior que o valor para homens na faixa etária específica\n",
            "No país El Salvador e no ano 1992, o valor para mulheres é maior que o valor para homens na faixa etária específica\n",
            "No país Fiji e no ano 2004, o valor para mulheres é maior que o valor para homens na faixa etária específica\n",
            "No país Fiji e no ano 2005, o valor para mulheres é maior que o valor para homens na faixa etária específica\n",
            "No país Fiji e no ano 2006, o valor para mulheres é maior que o valor para homens na faixa etária específica\n",
            "No país Fiji e no ano 2008, o valor para mulheres é maior que o valor para homens na faixa etária específica\n",
            "No país Grenada e no ano 1988, o valor para mulheres é maior que o valor para homens na faixa etária específica\n",
            "No país Jamaica e no ano 2001, o valor para mulheres é maior que o valor para homens na faixa etária específica\n",
            "No país Jamaica e no ano 2003, o valor para mulheres é maior que o valor para homens na faixa etária específica\n",
            "No país Kiribati e no ano 1996, o valor para mulheres é maior que o valor para homens na faixa etária específica\n",
            "No país Kuwait e no ano 1987, o valor para mulheres é maior que o valor para homens na faixa etária específica\n",
            "No país Kuwait e no ano 1996, o valor para mulheres é maior que o valor para homens na faixa etária específica\n",
            "No país Kuwait e no ano 1997, o valor para mulheres é maior que o valor para homens na faixa etária específica\n",
            "No país Kuwait e no ano 1998, o valor para mulheres é maior que o valor para homens na faixa etária específica\n",
            "No país Kuwait e no ano 2003, o valor para mulheres é maior que o valor para homens na faixa etária específica\n",
            "No país Kuwait e no ano 2005, o valor para mulheres é maior que o valor para homens na faixa etária específica\n",
            "No país Kuwait e no ano 2006, o valor para mulheres é maior que o valor para homens na faixa etária específica\n",
            "No país Kuwait e no ano 2010, o valor para mulheres é maior que o valor para homens na faixa etária específica\n",
            "No país Kuwait e no ano 2013, o valor para mulheres é maior que o valor para homens na faixa etária específica\n",
            "No país Luxembourg e no ano 1992, o valor para mulheres é maior que o valor para homens na faixa etária específica\n",
            "No país Luxembourg e no ano 2007, o valor para mulheres é maior que o valor para homens na faixa etária específica\n",
            "No país Luxembourg e no ano 2011, o valor para mulheres é maior que o valor para homens na faixa etária específica\n",
            "No país Luxembourg e no ano 2014, o valor para mulheres é maior que o valor para homens na faixa etária específica\n",
            "No país Maldives e no ano 2002, o valor para mulheres é maior que o valor para homens na faixa etária específica\n",
            "No país Maldives e no ano 2007, o valor para mulheres é maior que o valor para homens na faixa etária específica\n",
            "No país Malta e no ano 1999, o valor para mulheres é maior que o valor para homens na faixa etária específica\n",
            "No país Malta e no ano 2004, o valor para mulheres é maior que o valor para homens na faixa etária específica\n",
            "No país Mauritius e no ano 1986, o valor para mulheres é maior que o valor para homens na faixa etária específica\n",
            "No país Mauritius e no ano 1987, o valor para mulheres é maior que o valor para homens na faixa etária específica\n",
            "No país Mauritius e no ano 1988, o valor para mulheres é maior que o valor para homens na faixa etária específica\n",
            "No país Mauritius e no ano 1990, o valor para mulheres é maior que o valor para homens na faixa etária específica\n",
            "No país Mauritius e no ano 1991, o valor para mulheres é maior que o valor para homens na faixa etária específica\n",
            "No país Mauritius e no ano 1993, o valor para mulheres é maior que o valor para homens na faixa etária específica\n",
            "No país Mauritius e no ano 1999, o valor para mulheres é maior que o valor para homens na faixa etária específica\n",
            "No país Mauritius e no ano 2001, o valor para mulheres é maior que o valor para homens na faixa etária específica\n",
            "No país Mauritius e no ano 2003, o valor para mulheres é maior que o valor para homens na faixa etária específica\n",
            "No país Mauritius e no ano 2012, o valor para mulheres é maior que o valor para homens na faixa etária específica\n",
            "No país Montenegro e no ano 2005, o valor para mulheres é maior que o valor para homens na faixa etária específica\n",
            "No país Paraguay e no ano 1985, o valor para mulheres é maior que o valor para homens na faixa etária específica\n",
            "No país Paraguay e no ano 1986, o valor para mulheres é maior que o valor para homens na faixa etária específica\n",
            "No país Paraguay e no ano 1987, o valor para mulheres é maior que o valor para homens na faixa etária específica\n",
            "No país Paraguay e no ano 1989, o valor para mulheres é maior que o valor para homens na faixa etária específica\n",
            "No país Paraguay e no ano 1990, o valor para mulheres é maior que o valor para homens na faixa etária específica\n",
            "No país Paraguay e no ano 1999, o valor para mulheres é maior que o valor para homens na faixa etária específica\n",
            "No país Philippines e no ano 1993, o valor para mulheres é maior que o valor para homens na faixa etária específica\n",
            "No país Qatar e no ano 2006, o valor para mulheres é maior que o valor para homens na faixa etária específica\n",
            "No país Republic of Korea e no ano 2005, o valor para mulheres é maior que o valor para homens na faixa etária específica\n",
            "No país Republic of Korea e no ano 2007, o valor para mulheres é maior que o valor para homens na faixa etária específica\n",
            "No país Saint Lucia e no ano 2003, o valor para mulheres é maior que o valor para homens na faixa etária específica\n",
            "No país Saint Lucia e no ano 2010, o valor para mulheres é maior que o valor para homens na faixa etária específica\n",
            "No país Saint Lucia e no ano 2014, o valor para mulheres é maior que o valor para homens na faixa etária específica\n",
            "No país Seychelles e no ano 2015, o valor para mulheres é maior que o valor para homens na faixa etária específica\n",
            "No país Singapore e no ano 1989, o valor para mulheres é maior que o valor para homens na faixa etária específica\n",
            "No país Singapore e no ano 2000, o valor para mulheres é maior que o valor para homens na faixa etária específica\n",
            "No país Singapore e no ano 2002, o valor para mulheres é maior que o valor para homens na faixa etária específica\n",
            "No país Singapore e no ano 2008, o valor para mulheres é maior que o valor para homens na faixa etária específica\n",
            "No país Singapore e no ano 2010, o valor para mulheres é maior que o valor para homens na faixa etária específica\n",
            "No país Singapore e no ano 2011, o valor para mulheres é maior que o valor para homens na faixa etária específica\n",
            "No país Suriname e no ano 1987, o valor para mulheres é maior que o valor para homens na faixa etária específica\n",
            "No país Suriname e no ano 1988, o valor para mulheres é maior que o valor para homens na faixa etária específica\n",
            "No país Suriname e no ano 1991, o valor para mulheres é maior que o valor para homens na faixa etária específica\n",
            "No país Suriname e no ano 1999, o valor para mulheres é maior que o valor para homens na faixa etária específica\n",
            "No país Suriname e no ano 2004, o valor para mulheres é maior que o valor para homens na faixa etária específica\n",
            "No país Tajikistan e no ano 2017, o valor para mulheres é maior que o valor para homens na faixa etária específica\n",
            "No país Thailand e no ano 1985, o valor para mulheres é maior que o valor para homens na faixa etária específica\n",
            "No país Turkmenistan e no ano 2014, o valor para mulheres é maior que o valor para homens na faixa etária específica\n",
            "No país United Arab Emirates e no ano 2005, o valor para mulheres é maior que o valor para homens na faixa etária específica\n",
            "No país United Arab Emirates e no ano 2010, o valor para mulheres é maior que o valor para homens na faixa etária específica\n",
            "No país Uzbekistan e no ano 2012, o valor para mulheres é maior que o valor para homens na faixa etária específica\n",
            "No país Uzbekistan e no ano 2013, o valor para mulheres é maior que o valor para homens na faixa etária específica\n",
            "No país Uzbekistan e no ano 2014, o valor para mulheres é maior que o valor para homens na faixa etária específica\n",
            "No país Uzbekistan e no ano 2017, o valor para mulheres é maior que o valor para homens na faixa etária específica\n",
            "No país Uzbekistan e no ano 2018, o valor para mulheres é maior que o valor para homens na faixa etária específica\n",
            "No país Uzbekistan e no ano 2019, o valor para mulheres é maior que o valor para homens na faixa etária específica\n"
          ]
        }
      ]
    },
    {
      "cell_type": "markdown",
      "source": [
        "foi observado que na faixa etária de 15-24 anos existem varios\n",
        "casos em um ano especifico e num país especifico o numero de suicidio de mulheres proporcional a 100mil habitantes  superou o de homens "
      ],
      "metadata": {
        "id": "bQTLDo_7p5Mm"
      }
    },
    {
      "cell_type": "markdown",
      "source": [
        "vamos criar um dataset para maior visualização de todos os casos em faixa etária que isso ocorre"
      ],
      "metadata": {
        "id": "FlO-jWDVqKuE"
      }
    },
    {
      "cell_type": "code",
      "source": [
        "# criar uma lista vazia para armazenar as informações\n",
        "resultados = []\n",
        "\n",
        "# itera sobre cada país, ano e faixa etária\n",
        "for (pais, ano, faixa_etaria), data in df.groupby(['country', 'year', 'age']):\n",
        "    # selecionar os valores de homens e mulheres\n",
        "    homens = data[data['sex'] == 'male']['suicides/100k pop'].values[0]\n",
        "    if len(data[data['sex'] == 'female']['suicides/100k pop'].values) > 0: \n",
        "      mulheres = data[data['sex'] == 'female']['suicides/100k pop'].values[0] \n",
        "    else: \n",
        "      mulheres = 0\n",
        "\n",
        "    # comparar os valores de homens e mulheres\n",
        "    if mulheres > homens:\n",
        "        resultados.append((pais, ano, faixa_etaria))\n",
        "\n",
        "# criar um novo DataFrame com as informações armazenadas na lista resultados\n",
        "relação_homem_mulher_df = pd.DataFrame(resultados, columns=['country', 'year', 'age'])\n",
        "relação_homem_mulher_df.head(10)\n",
        "\n",
        "\n",
        "\n",
        "\n",
        "\n"
      ],
      "metadata": {
        "id": "QIDpMgEgxmv7",
        "colab": {
          "base_uri": "https://localhost:8080/",
          "height": 363
        },
        "outputId": "e19c406e-8647-4e33-e977-83829b07a3b2"
      },
      "execution_count": 22,
      "outputs": [
        {
          "output_type": "execute_result",
          "data": {
            "text/plain": [
              "   country  year          age\n",
              "0  Albania  1988  25-34 years\n",
              "1  Albania  1988    75+ years\n",
              "2  Albania  1993   5-14 years\n",
              "3  Albania  1995  15-24 years\n",
              "4  Albania  1995    75+ years\n",
              "5  Albania  1997   5-14 years\n",
              "6  Albania  1999   5-14 years\n",
              "7  Albania  2000  15-24 years\n",
              "8  Albania  2000  35-54 years\n",
              "9  Albania  2000    75+ years"
            ],
            "text/html": [
              "\n",
              "  <div id=\"df-91fc60e8-0313-42c7-bee9-0d4fbbed7158\">\n",
              "    <div class=\"colab-df-container\">\n",
              "      <div>\n",
              "<style scoped>\n",
              "    .dataframe tbody tr th:only-of-type {\n",
              "        vertical-align: middle;\n",
              "    }\n",
              "\n",
              "    .dataframe tbody tr th {\n",
              "        vertical-align: top;\n",
              "    }\n",
              "\n",
              "    .dataframe thead th {\n",
              "        text-align: right;\n",
              "    }\n",
              "</style>\n",
              "<table border=\"1\" class=\"dataframe\">\n",
              "  <thead>\n",
              "    <tr style=\"text-align: right;\">\n",
              "      <th></th>\n",
              "      <th>country</th>\n",
              "      <th>year</th>\n",
              "      <th>age</th>\n",
              "    </tr>\n",
              "  </thead>\n",
              "  <tbody>\n",
              "    <tr>\n",
              "      <th>0</th>\n",
              "      <td>Albania</td>\n",
              "      <td>1988</td>\n",
              "      <td>25-34 years</td>\n",
              "    </tr>\n",
              "    <tr>\n",
              "      <th>1</th>\n",
              "      <td>Albania</td>\n",
              "      <td>1988</td>\n",
              "      <td>75+ years</td>\n",
              "    </tr>\n",
              "    <tr>\n",
              "      <th>2</th>\n",
              "      <td>Albania</td>\n",
              "      <td>1993</td>\n",
              "      <td>5-14 years</td>\n",
              "    </tr>\n",
              "    <tr>\n",
              "      <th>3</th>\n",
              "      <td>Albania</td>\n",
              "      <td>1995</td>\n",
              "      <td>15-24 years</td>\n",
              "    </tr>\n",
              "    <tr>\n",
              "      <th>4</th>\n",
              "      <td>Albania</td>\n",
              "      <td>1995</td>\n",
              "      <td>75+ years</td>\n",
              "    </tr>\n",
              "    <tr>\n",
              "      <th>5</th>\n",
              "      <td>Albania</td>\n",
              "      <td>1997</td>\n",
              "      <td>5-14 years</td>\n",
              "    </tr>\n",
              "    <tr>\n",
              "      <th>6</th>\n",
              "      <td>Albania</td>\n",
              "      <td>1999</td>\n",
              "      <td>5-14 years</td>\n",
              "    </tr>\n",
              "    <tr>\n",
              "      <th>7</th>\n",
              "      <td>Albania</td>\n",
              "      <td>2000</td>\n",
              "      <td>15-24 years</td>\n",
              "    </tr>\n",
              "    <tr>\n",
              "      <th>8</th>\n",
              "      <td>Albania</td>\n",
              "      <td>2000</td>\n",
              "      <td>35-54 years</td>\n",
              "    </tr>\n",
              "    <tr>\n",
              "      <th>9</th>\n",
              "      <td>Albania</td>\n",
              "      <td>2000</td>\n",
              "      <td>75+ years</td>\n",
              "    </tr>\n",
              "  </tbody>\n",
              "</table>\n",
              "</div>\n",
              "      <button class=\"colab-df-convert\" onclick=\"convertToInteractive('df-91fc60e8-0313-42c7-bee9-0d4fbbed7158')\"\n",
              "              title=\"Convert this dataframe to an interactive table.\"\n",
              "              style=\"display:none;\">\n",
              "        \n",
              "  <svg xmlns=\"http://www.w3.org/2000/svg\" height=\"24px\"viewBox=\"0 0 24 24\"\n",
              "       width=\"24px\">\n",
              "    <path d=\"M0 0h24v24H0V0z\" fill=\"none\"/>\n",
              "    <path d=\"M18.56 5.44l.94 2.06.94-2.06 2.06-.94-2.06-.94-.94-2.06-.94 2.06-2.06.94zm-11 1L8.5 8.5l.94-2.06 2.06-.94-2.06-.94L8.5 2.5l-.94 2.06-2.06.94zm10 10l.94 2.06.94-2.06 2.06-.94-2.06-.94-.94-2.06-.94 2.06-2.06.94z\"/><path d=\"M17.41 7.96l-1.37-1.37c-.4-.4-.92-.59-1.43-.59-.52 0-1.04.2-1.43.59L10.3 9.45l-7.72 7.72c-.78.78-.78 2.05 0 2.83L4 21.41c.39.39.9.59 1.41.59.51 0 1.02-.2 1.41-.59l7.78-7.78 2.81-2.81c.8-.78.8-2.07 0-2.86zM5.41 20L4 18.59l7.72-7.72 1.47 1.35L5.41 20z\"/>\n",
              "  </svg>\n",
              "      </button>\n",
              "      \n",
              "  <style>\n",
              "    .colab-df-container {\n",
              "      display:flex;\n",
              "      flex-wrap:wrap;\n",
              "      gap: 12px;\n",
              "    }\n",
              "\n",
              "    .colab-df-convert {\n",
              "      background-color: #E8F0FE;\n",
              "      border: none;\n",
              "      border-radius: 50%;\n",
              "      cursor: pointer;\n",
              "      display: none;\n",
              "      fill: #1967D2;\n",
              "      height: 32px;\n",
              "      padding: 0 0 0 0;\n",
              "      width: 32px;\n",
              "    }\n",
              "\n",
              "    .colab-df-convert:hover {\n",
              "      background-color: #E2EBFA;\n",
              "      box-shadow: 0px 1px 2px rgba(60, 64, 67, 0.3), 0px 1px 3px 1px rgba(60, 64, 67, 0.15);\n",
              "      fill: #174EA6;\n",
              "    }\n",
              "\n",
              "    [theme=dark] .colab-df-convert {\n",
              "      background-color: #3B4455;\n",
              "      fill: #D2E3FC;\n",
              "    }\n",
              "\n",
              "    [theme=dark] .colab-df-convert:hover {\n",
              "      background-color: #434B5C;\n",
              "      box-shadow: 0px 1px 3px 1px rgba(0, 0, 0, 0.15);\n",
              "      filter: drop-shadow(0px 1px 2px rgba(0, 0, 0, 0.3));\n",
              "      fill: #FFFFFF;\n",
              "    }\n",
              "  </style>\n",
              "\n",
              "      <script>\n",
              "        const buttonEl =\n",
              "          document.querySelector('#df-91fc60e8-0313-42c7-bee9-0d4fbbed7158 button.colab-df-convert');\n",
              "        buttonEl.style.display =\n",
              "          google.colab.kernel.accessAllowed ? 'block' : 'none';\n",
              "\n",
              "        async function convertToInteractive(key) {\n",
              "          const element = document.querySelector('#df-91fc60e8-0313-42c7-bee9-0d4fbbed7158');\n",
              "          const dataTable =\n",
              "            await google.colab.kernel.invokeFunction('convertToInteractive',\n",
              "                                                     [key], {});\n",
              "          if (!dataTable) return;\n",
              "\n",
              "          const docLinkHtml = 'Like what you see? Visit the ' +\n",
              "            '<a target=\"_blank\" href=https://colab.research.google.com/notebooks/data_table.ipynb>data table notebook</a>'\n",
              "            + ' to learn more about interactive tables.';\n",
              "          element.innerHTML = '';\n",
              "          dataTable['output_type'] = 'display_data';\n",
              "          await google.colab.output.renderOutput(dataTable, element);\n",
              "          const docLink = document.createElement('div');\n",
              "          docLink.innerHTML = docLinkHtml;\n",
              "          element.appendChild(docLink);\n",
              "        }\n",
              "      </script>\n",
              "    </div>\n",
              "  </div>\n",
              "  "
            ]
          },
          "metadata": {},
          "execution_count": 22
        }
      ]
    },
    {
      "cell_type": "markdown",
      "source": [
        "Com esse dataset criado, mostra o país, ano e faixa etária que o numero de suicidio de mulheres por 100mil habitantes é superior ao do homem"
      ],
      "metadata": {
        "id": "jhni5fs1zmFA"
      }
    },
    {
      "cell_type": "code",
      "source": [
        "display(relação_homem_mulher_df)"
      ],
      "metadata": {
        "colab": {
          "base_uri": "https://localhost:8080/",
          "height": 423
        },
        "id": "-BlZ_YDn2UKJ",
        "outputId": "9277151b-bfc4-4a9c-a3d5-51ab95f011f4"
      },
      "execution_count": 23,
      "outputs": [
        {
          "output_type": "display_data",
          "data": {
            "text/plain": [
              "        country  year          age\n",
              "0       Albania  1988  25-34 years\n",
              "1       Albania  1988    75+ years\n",
              "2       Albania  1993   5-14 years\n",
              "3       Albania  1995  15-24 years\n",
              "4       Albania  1995    75+ years\n",
              "..          ...   ...          ...\n",
              "820  Uzbekistan  2013  15-24 years\n",
              "821  Uzbekistan  2014  15-24 years\n",
              "822  Uzbekistan  2017  15-24 years\n",
              "823  Uzbekistan  2018  15-24 years\n",
              "824  Uzbekistan  2019  15-24 years\n",
              "\n",
              "[825 rows x 3 columns]"
            ],
            "text/html": [
              "\n",
              "  <div id=\"df-dc8432e2-85ac-41b7-b166-f427c3261794\">\n",
              "    <div class=\"colab-df-container\">\n",
              "      <div>\n",
              "<style scoped>\n",
              "    .dataframe tbody tr th:only-of-type {\n",
              "        vertical-align: middle;\n",
              "    }\n",
              "\n",
              "    .dataframe tbody tr th {\n",
              "        vertical-align: top;\n",
              "    }\n",
              "\n",
              "    .dataframe thead th {\n",
              "        text-align: right;\n",
              "    }\n",
              "</style>\n",
              "<table border=\"1\" class=\"dataframe\">\n",
              "  <thead>\n",
              "    <tr style=\"text-align: right;\">\n",
              "      <th></th>\n",
              "      <th>country</th>\n",
              "      <th>year</th>\n",
              "      <th>age</th>\n",
              "    </tr>\n",
              "  </thead>\n",
              "  <tbody>\n",
              "    <tr>\n",
              "      <th>0</th>\n",
              "      <td>Albania</td>\n",
              "      <td>1988</td>\n",
              "      <td>25-34 years</td>\n",
              "    </tr>\n",
              "    <tr>\n",
              "      <th>1</th>\n",
              "      <td>Albania</td>\n",
              "      <td>1988</td>\n",
              "      <td>75+ years</td>\n",
              "    </tr>\n",
              "    <tr>\n",
              "      <th>2</th>\n",
              "      <td>Albania</td>\n",
              "      <td>1993</td>\n",
              "      <td>5-14 years</td>\n",
              "    </tr>\n",
              "    <tr>\n",
              "      <th>3</th>\n",
              "      <td>Albania</td>\n",
              "      <td>1995</td>\n",
              "      <td>15-24 years</td>\n",
              "    </tr>\n",
              "    <tr>\n",
              "      <th>4</th>\n",
              "      <td>Albania</td>\n",
              "      <td>1995</td>\n",
              "      <td>75+ years</td>\n",
              "    </tr>\n",
              "    <tr>\n",
              "      <th>...</th>\n",
              "      <td>...</td>\n",
              "      <td>...</td>\n",
              "      <td>...</td>\n",
              "    </tr>\n",
              "    <tr>\n",
              "      <th>820</th>\n",
              "      <td>Uzbekistan</td>\n",
              "      <td>2013</td>\n",
              "      <td>15-24 years</td>\n",
              "    </tr>\n",
              "    <tr>\n",
              "      <th>821</th>\n",
              "      <td>Uzbekistan</td>\n",
              "      <td>2014</td>\n",
              "      <td>15-24 years</td>\n",
              "    </tr>\n",
              "    <tr>\n",
              "      <th>822</th>\n",
              "      <td>Uzbekistan</td>\n",
              "      <td>2017</td>\n",
              "      <td>15-24 years</td>\n",
              "    </tr>\n",
              "    <tr>\n",
              "      <th>823</th>\n",
              "      <td>Uzbekistan</td>\n",
              "      <td>2018</td>\n",
              "      <td>15-24 years</td>\n",
              "    </tr>\n",
              "    <tr>\n",
              "      <th>824</th>\n",
              "      <td>Uzbekistan</td>\n",
              "      <td>2019</td>\n",
              "      <td>15-24 years</td>\n",
              "    </tr>\n",
              "  </tbody>\n",
              "</table>\n",
              "<p>825 rows × 3 columns</p>\n",
              "</div>\n",
              "      <button class=\"colab-df-convert\" onclick=\"convertToInteractive('df-dc8432e2-85ac-41b7-b166-f427c3261794')\"\n",
              "              title=\"Convert this dataframe to an interactive table.\"\n",
              "              style=\"display:none;\">\n",
              "        \n",
              "  <svg xmlns=\"http://www.w3.org/2000/svg\" height=\"24px\"viewBox=\"0 0 24 24\"\n",
              "       width=\"24px\">\n",
              "    <path d=\"M0 0h24v24H0V0z\" fill=\"none\"/>\n",
              "    <path d=\"M18.56 5.44l.94 2.06.94-2.06 2.06-.94-2.06-.94-.94-2.06-.94 2.06-2.06.94zm-11 1L8.5 8.5l.94-2.06 2.06-.94-2.06-.94L8.5 2.5l-.94 2.06-2.06.94zm10 10l.94 2.06.94-2.06 2.06-.94-2.06-.94-.94-2.06-.94 2.06-2.06.94z\"/><path d=\"M17.41 7.96l-1.37-1.37c-.4-.4-.92-.59-1.43-.59-.52 0-1.04.2-1.43.59L10.3 9.45l-7.72 7.72c-.78.78-.78 2.05 0 2.83L4 21.41c.39.39.9.59 1.41.59.51 0 1.02-.2 1.41-.59l7.78-7.78 2.81-2.81c.8-.78.8-2.07 0-2.86zM5.41 20L4 18.59l7.72-7.72 1.47 1.35L5.41 20z\"/>\n",
              "  </svg>\n",
              "      </button>\n",
              "      \n",
              "  <style>\n",
              "    .colab-df-container {\n",
              "      display:flex;\n",
              "      flex-wrap:wrap;\n",
              "      gap: 12px;\n",
              "    }\n",
              "\n",
              "    .colab-df-convert {\n",
              "      background-color: #E8F0FE;\n",
              "      border: none;\n",
              "      border-radius: 50%;\n",
              "      cursor: pointer;\n",
              "      display: none;\n",
              "      fill: #1967D2;\n",
              "      height: 32px;\n",
              "      padding: 0 0 0 0;\n",
              "      width: 32px;\n",
              "    }\n",
              "\n",
              "    .colab-df-convert:hover {\n",
              "      background-color: #E2EBFA;\n",
              "      box-shadow: 0px 1px 2px rgba(60, 64, 67, 0.3), 0px 1px 3px 1px rgba(60, 64, 67, 0.15);\n",
              "      fill: #174EA6;\n",
              "    }\n",
              "\n",
              "    [theme=dark] .colab-df-convert {\n",
              "      background-color: #3B4455;\n",
              "      fill: #D2E3FC;\n",
              "    }\n",
              "\n",
              "    [theme=dark] .colab-df-convert:hover {\n",
              "      background-color: #434B5C;\n",
              "      box-shadow: 0px 1px 3px 1px rgba(0, 0, 0, 0.15);\n",
              "      filter: drop-shadow(0px 1px 2px rgba(0, 0, 0, 0.3));\n",
              "      fill: #FFFFFF;\n",
              "    }\n",
              "  </style>\n",
              "\n",
              "      <script>\n",
              "        const buttonEl =\n",
              "          document.querySelector('#df-dc8432e2-85ac-41b7-b166-f427c3261794 button.colab-df-convert');\n",
              "        buttonEl.style.display =\n",
              "          google.colab.kernel.accessAllowed ? 'block' : 'none';\n",
              "\n",
              "        async function convertToInteractive(key) {\n",
              "          const element = document.querySelector('#df-dc8432e2-85ac-41b7-b166-f427c3261794');\n",
              "          const dataTable =\n",
              "            await google.colab.kernel.invokeFunction('convertToInteractive',\n",
              "                                                     [key], {});\n",
              "          if (!dataTable) return;\n",
              "\n",
              "          const docLinkHtml = 'Like what you see? Visit the ' +\n",
              "            '<a target=\"_blank\" href=https://colab.research.google.com/notebooks/data_table.ipynb>data table notebook</a>'\n",
              "            + ' to learn more about interactive tables.';\n",
              "          element.innerHTML = '';\n",
              "          dataTable['output_type'] = 'display_data';\n",
              "          await google.colab.output.renderOutput(dataTable, element);\n",
              "          const docLink = document.createElement('div');\n",
              "          docLink.innerHTML = docLinkHtml;\n",
              "          element.appendChild(docLink);\n",
              "        }\n",
              "      </script>\n",
              "    </div>\n",
              "  </div>\n",
              "  "
            ]
          },
          "metadata": {}
        }
      ]
    },
    {
      "cell_type": "markdown",
      "source": [
        "Geração que maior numeros de suicidios bruto"
      ],
      "metadata": {
        "id": "SLR3IjKG6bHL"
      }
    },
    {
      "cell_type": "code",
      "source": [
        "df_geração = df[df['suicides/100k pop'] != 0]\n",
        "\n",
        "# agrupar os dados por coluna de tipo\n",
        "grouped = df.groupby('generation')\n",
        "\n",
        "# contar o número de ocorrências de cada tipo\n",
        "geração_suicidio = grouped.size().reset_index(name='contagem')\n",
        "\n",
        "# ordenar os resultados pela contagem em ordem decrescente\n",
        "geração_suicidio = geração_suicidio.sort_values('contagem', ascending=False)"
      ],
      "metadata": {
        "id": "St4-FSjN6fcW"
      },
      "execution_count": 24,
      "outputs": []
    },
    {
      "cell_type": "code",
      "source": [
        "display(resultado)"
      ],
      "metadata": {
        "colab": {
          "base_uri": "https://localhost:8080/",
          "height": 237
        },
        "id": "T-d1aBS3afTU",
        "outputId": "3d585668-acfa-4d26-9db5-8c30a7d34c52"
      },
      "execution_count": null,
      "outputs": [
        {
          "output_type": "display_data",
          "data": {
            "text/plain": [
              "        generation  contagem\n",
              "2     Generation X      7720\n",
              "5           Silent      7020\n",
              "4       Millenials      5844\n",
              "0          Boomers      5646\n",
              "1  G.I. Generation      4056\n",
              "3     Generation Z      1470"
            ],
            "text/html": [
              "\n",
              "  <div id=\"df-b8b3ced2-b494-4046-96da-e302f3a0c79c\">\n",
              "    <div class=\"colab-df-container\">\n",
              "      <div>\n",
              "<style scoped>\n",
              "    .dataframe tbody tr th:only-of-type {\n",
              "        vertical-align: middle;\n",
              "    }\n",
              "\n",
              "    .dataframe tbody tr th {\n",
              "        vertical-align: top;\n",
              "    }\n",
              "\n",
              "    .dataframe thead th {\n",
              "        text-align: right;\n",
              "    }\n",
              "</style>\n",
              "<table border=\"1\" class=\"dataframe\">\n",
              "  <thead>\n",
              "    <tr style=\"text-align: right;\">\n",
              "      <th></th>\n",
              "      <th>generation</th>\n",
              "      <th>contagem</th>\n",
              "    </tr>\n",
              "  </thead>\n",
              "  <tbody>\n",
              "    <tr>\n",
              "      <th>2</th>\n",
              "      <td>Generation X</td>\n",
              "      <td>7720</td>\n",
              "    </tr>\n",
              "    <tr>\n",
              "      <th>5</th>\n",
              "      <td>Silent</td>\n",
              "      <td>7020</td>\n",
              "    </tr>\n",
              "    <tr>\n",
              "      <th>4</th>\n",
              "      <td>Millenials</td>\n",
              "      <td>5844</td>\n",
              "    </tr>\n",
              "    <tr>\n",
              "      <th>0</th>\n",
              "      <td>Boomers</td>\n",
              "      <td>5646</td>\n",
              "    </tr>\n",
              "    <tr>\n",
              "      <th>1</th>\n",
              "      <td>G.I. Generation</td>\n",
              "      <td>4056</td>\n",
              "    </tr>\n",
              "    <tr>\n",
              "      <th>3</th>\n",
              "      <td>Generation Z</td>\n",
              "      <td>1470</td>\n",
              "    </tr>\n",
              "  </tbody>\n",
              "</table>\n",
              "</div>\n",
              "      <button class=\"colab-df-convert\" onclick=\"convertToInteractive('df-b8b3ced2-b494-4046-96da-e302f3a0c79c')\"\n",
              "              title=\"Convert this dataframe to an interactive table.\"\n",
              "              style=\"display:none;\">\n",
              "        \n",
              "  <svg xmlns=\"http://www.w3.org/2000/svg\" height=\"24px\"viewBox=\"0 0 24 24\"\n",
              "       width=\"24px\">\n",
              "    <path d=\"M0 0h24v24H0V0z\" fill=\"none\"/>\n",
              "    <path d=\"M18.56 5.44l.94 2.06.94-2.06 2.06-.94-2.06-.94-.94-2.06-.94 2.06-2.06.94zm-11 1L8.5 8.5l.94-2.06 2.06-.94-2.06-.94L8.5 2.5l-.94 2.06-2.06.94zm10 10l.94 2.06.94-2.06 2.06-.94-2.06-.94-.94-2.06-.94 2.06-2.06.94z\"/><path d=\"M17.41 7.96l-1.37-1.37c-.4-.4-.92-.59-1.43-.59-.52 0-1.04.2-1.43.59L10.3 9.45l-7.72 7.72c-.78.78-.78 2.05 0 2.83L4 21.41c.39.39.9.59 1.41.59.51 0 1.02-.2 1.41-.59l7.78-7.78 2.81-2.81c.8-.78.8-2.07 0-2.86zM5.41 20L4 18.59l7.72-7.72 1.47 1.35L5.41 20z\"/>\n",
              "  </svg>\n",
              "      </button>\n",
              "      \n",
              "  <style>\n",
              "    .colab-df-container {\n",
              "      display:flex;\n",
              "      flex-wrap:wrap;\n",
              "      gap: 12px;\n",
              "    }\n",
              "\n",
              "    .colab-df-convert {\n",
              "      background-color: #E8F0FE;\n",
              "      border: none;\n",
              "      border-radius: 50%;\n",
              "      cursor: pointer;\n",
              "      display: none;\n",
              "      fill: #1967D2;\n",
              "      height: 32px;\n",
              "      padding: 0 0 0 0;\n",
              "      width: 32px;\n",
              "    }\n",
              "\n",
              "    .colab-df-convert:hover {\n",
              "      background-color: #E2EBFA;\n",
              "      box-shadow: 0px 1px 2px rgba(60, 64, 67, 0.3), 0px 1px 3px 1px rgba(60, 64, 67, 0.15);\n",
              "      fill: #174EA6;\n",
              "    }\n",
              "\n",
              "    [theme=dark] .colab-df-convert {\n",
              "      background-color: #3B4455;\n",
              "      fill: #D2E3FC;\n",
              "    }\n",
              "\n",
              "    [theme=dark] .colab-df-convert:hover {\n",
              "      background-color: #434B5C;\n",
              "      box-shadow: 0px 1px 3px 1px rgba(0, 0, 0, 0.15);\n",
              "      filter: drop-shadow(0px 1px 2px rgba(0, 0, 0, 0.3));\n",
              "      fill: #FFFFFF;\n",
              "    }\n",
              "  </style>\n",
              "\n",
              "      <script>\n",
              "        const buttonEl =\n",
              "          document.querySelector('#df-b8b3ced2-b494-4046-96da-e302f3a0c79c button.colab-df-convert');\n",
              "        buttonEl.style.display =\n",
              "          google.colab.kernel.accessAllowed ? 'block' : 'none';\n",
              "\n",
              "        async function convertToInteractive(key) {\n",
              "          const element = document.querySelector('#df-b8b3ced2-b494-4046-96da-e302f3a0c79c');\n",
              "          const dataTable =\n",
              "            await google.colab.kernel.invokeFunction('convertToInteractive',\n",
              "                                                     [key], {});\n",
              "          if (!dataTable) return;\n",
              "\n",
              "          const docLinkHtml = 'Like what you see? Visit the ' +\n",
              "            '<a target=\"_blank\" href=https://colab.research.google.com/notebooks/data_table.ipynb>data table notebook</a>'\n",
              "            + ' to learn more about interactive tables.';\n",
              "          element.innerHTML = '';\n",
              "          dataTable['output_type'] = 'display_data';\n",
              "          await google.colab.output.renderOutput(dataTable, element);\n",
              "          const docLink = document.createElement('div');\n",
              "          docLink.innerHTML = docLinkHtml;\n",
              "          element.appendChild(docLink);\n",
              "        }\n",
              "      </script>\n",
              "    </div>\n",
              "  </div>\n",
              "  "
            ]
          },
          "metadata": {}
        }
      ]
    },
    {
      "cell_type": "code",
      "source": [
        "import matplotlib.pyplot as plt\n",
        "import statsmodels.api as sm\n",
        "import seaborn as sns"
      ],
      "metadata": {
        "id": "rbnPMR6-q3Xy"
      },
      "execution_count": 27,
      "outputs": []
    },
    {
      "cell_type": "code",
      "source": [
        "df_filtered = df[(df[\"year\"] >= 2010) & (df[\"year\"] <= 2020)]\n",
        "\n",
        "plt.scatter(df_filtered[\"suicides/100k pop\"], df_filtered[\"gdp_per_capita ($)\"])\n",
        "\n",
        "# Adicionar título e rótulos de eixos\n",
        "plt.title(\"Relação entre Produto Interno Bruto per capita e Taxa de Suicídios\")\n",
        "plt.xlabel(\"Taxa de Suicídios por 100k habitantes\")\n",
        "plt.ylabel(\"Produto Interno Bruto per capita\")\n"
      ],
      "metadata": {
        "colab": {
          "base_uri": "https://localhost:8080/",
          "height": 314
        },
        "id": "Vq2HtDh5q8CP",
        "outputId": "c56c6519-4056-4fc5-b8af-8c950dd14403"
      },
      "execution_count": 28,
      "outputs": [
        {
          "output_type": "execute_result",
          "data": {
            "text/plain": [
              "Text(0, 0.5, 'Produto Interno Bruto per capita')"
            ]
          },
          "metadata": {},
          "execution_count": 28
        },
        {
          "output_type": "display_data",
          "data": {
            "text/plain": [
              "<Figure size 432x288 with 1 Axes>"
            ],
            "image/png": "[encoded data removed]"
          },
          "metadata": {
            "needs_background": "light"
          }
        }
      ]
    },
    {
      "cell_type": "code",
      "source": [
        "df_filtered = df[(df[\"year\"] >= 2010) & (df[\"year\"] <= 2020)]\n",
        "\n",
        "coluna_para_cor = \"age\"\n",
        "\n",
        "sns.scatterplot(x=\"suicides/100k pop\", y=\"gdp_per_capita ($)\", hue=coluna_para_cor, data=df_filtered)\n",
        "\n",
        "\n",
        "# Adicionar título e rótulos de eixos\n",
        "plt.title(\"Relação entre Produto Interno Bruto per capita e Taxa de Suicídios de 2010 até 2020\")\n",
        "plt.xlabel(\"Taxa de Suicídios por 100k habitantes\")\n",
        "plt.ylabel(\"Produto Interno Bruto per capita\")"
      ],
      "metadata": {
        "colab": {
          "base_uri": "https://localhost:8080/",
          "height": 314
        },
        "id": "ryAjU6KXhd-P",
        "outputId": "2b764a98-29e4-4100-8bcf-36c0875b79ad"
      },
      "execution_count": 29,
      "outputs": [
        {
          "output_type": "execute_result",
          "data": {
            "text/plain": [
              "Text(0, 0.5, 'Produto Interno Bruto per capita')"
            ]
          },
          "metadata": {},
          "execution_count": 29
        },
        {
          "output_type": "display_data",
          "data": {
            "text/plain": [
              "<Figure size 432x288 with 1 Axes>"
            ],
            "image/png": "[encoded data removed]"
          },
          "metadata": {
            "needs_background": "light"
          }
        }
      ]
    },
    {
      "cell_type": "code",
      "source": [
        "\n",
        "df_filtered = df[(df[\"year\"] >= 2010) & (df[\"year\"] <= 2020)]\n",
        "df_filtered[\"nova_categoria\"] = None\n",
        "\n",
        "\n",
        "df_filtered.loc[(df_filtered[\"age\"] == \"5-14 years\") | (df_filtered[\"age\"] == \"15-24 years\"), \"nova_categoria\"] = \"5-14 + 15-24\"\n",
        "df_filtered.loc[(df_filtered[\"age\"] == \"25-34 years\") | (df_filtered[\"age\"] == \"35-54 years\"), \"nova_categoria\"] = \"25-34 + 35-54\"\n",
        "df_filtered.loc[(df_filtered[\"age\"] == \"55-74 years\") | (df_filtered[\"age\"] == \"75+ years\"), \"nova_categoria\"] = \"55-74 + 75+\"\n",
        "\n",
        "\n",
        "coluna_para_cor = \"nova_categoria\"\n",
        "\n",
        "sns.scatterplot(x=\"suicides/100k pop\", y=\"gdp_per_capita ($)\", hue=coluna_para_cor, data=df_filtered)\n",
        "\n",
        "\n",
        "# Adicionar título e rótulos de eixos\n",
        "plt.title(\"Relação entre Produto Interno Bruto per capita e Taxa de Suicídios de 2010 até 2020\")\n",
        "plt.xlabel(\"Taxa de Suicídios por 100k habitantes\")\n",
        "plt.ylabel(\"Produto Interno Bruto per capita\")"
      ],
      "metadata": {
        "colab": {
          "base_uri": "https://localhost:8080/",
          "height": 536
        },
        "id": "QO2qol6yka4v",
        "outputId": "fab8df65-64ea-4eca-f75d-c24e588c9da0"
      },
      "execution_count": 34,
      "outputs": [
        {
          "output_type": "stream",
          "name": "stderr",
          "text": [
            "<ipython-input-34-dcef120b399b>:2: SettingWithCopyWarning: \n",
            "A value is trying to be set on a copy of a slice from a DataFrame.\n",
            "Try using .loc[row_indexer,col_indexer] = value instead\n",
            "\n",
            "See the caveats in the documentation: https://pandas.pydata.org/pandas-docs/stable/user_guide/indexing.html#returning-a-view-versus-a-copy\n",
            "  df_filtered[\"nova_categoria\"] = None\n",
            "/usr/local/lib/python3.9/dist-packages/pandas/core/indexing.py:1817: SettingWithCopyWarning: \n",
            "A value is trying to be set on a copy of a slice from a DataFrame.\n",
            "Try using .loc[row_indexer,col_indexer] = value instead\n",
            "\n",
            "See the caveats in the documentation: https://pandas.pydata.org/pandas-docs/stable/user_guide/indexing.html#returning-a-view-versus-a-copy\n",
            "  self._setitem_single_column(loc, value, pi)\n"
          ]
        },
        {
          "output_type": "execute_result",
          "data": {
            "text/plain": [
              "Text(0, 0.5, 'Produto Interno Bruto per capita')"
            ]
          },
          "metadata": {},
          "execution_count": 34
        },
        {
          "output_type": "display_data",
          "data": {
            "text/plain": [
              "<Figure size 432x288 with 1 Axes>"
            ],
            "image/png": "[encoded data removed]"
          },
          "metadata": {
            "needs_background": "light"
          }
        }
      ]
    }
  ]
}